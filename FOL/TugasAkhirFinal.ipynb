{
 "cells": [
  {
   "cell_type": "markdown",
   "id": "b189d849",
   "metadata": {},
   "source": [
    "#### Arya Pratama Rhama Putra (5054241026)"
   ]
  },
  {
   "cell_type": "code",
   "execution_count": 3,
   "id": "9109b405",
   "metadata": {},
   "outputs": [],
   "source": [
    "\n",
    "from utils import *\n",
    "from logic import *\n",
    "import agents\n",
    "import math\n",
    "from inspect import getsource\n",
    "from IPython.display import HTML\n",
    "from tabulate import tabulate\n"
   ]
  },
  {
   "cell_type": "code",
   "execution_count": 4,
   "id": "196be6e8",
   "metadata": {},
   "outputs": [],
   "source": [
    "\n",
    "from collections import deque\n",
    "\n",
    "\n",
    "class WumpusAgent:\n",
    "    \"\"\"\n",
    "    Agen cerdas untuk Wumpus World yang menggunakan logika proposisional,\n",
    "    caching untuk optimasi, dan backtracking.\n",
    "    \"\"\"\n",
    "    def __init__(self, world, initial_pos=(1,1)):\n",
    "        \n",
    "        self.world = world\n",
    "        self.grid_size = len(world)\n",
    "        self.kb = PropKB()\n",
    "        self.position = initial_pos\n",
    "        self.visited = {initial_pos}\n",
    "        self.path = [initial_pos]\n",
    "        self.gerakan = [(0,1), (0,-1), (1,0), (-1,0)]\n",
    "        self.game_over = False\n",
    "        self.has_gold = False\n",
    "\n",
    "        \n",
    "        self.safe_cells = {initial_pos}\n",
    "\n",
    "        \n",
    "        self.update_kb(initial_pos[0], initial_pos[1])\n",
    "\n",
    "    def get_percepts(self, x, y):\n",
    "        \"\"\"Ambil percept dari koordinat (x,y) sesuai world.\"\"\"\n",
    "        \n",
    "        world_y = self.grid_size - y\n",
    "        world_x = x - 1\n",
    "        if 0 <= world_y < self.grid_size and 0 <= world_x < len(self.world[0]):\n",
    "            return set(self.world[world_y][world_x])\n",
    "        return set()\n",
    "\n",
    "    def update_kb(self, x, y):\n",
    "        \"\"\"\n",
    "        Update KB dan cache safe_cells dengan inferensi manual yang cepat.\n",
    "        \"\"\"\n",
    "        percepts = self.get_percepts(x, y)\n",
    "\n",
    "        \n",
    "        if 'B' not in percepts and 'S' not in percepts:\n",
    "            for nx, ny in self.get_adjacent_cells(x, y):\n",
    "                self.safe_cells.add((nx, ny))\n",
    "\n",
    "        \n",
    "        if 'B' in percepts:\n",
    "            self.kb.tell(expr(f\"Breeze({x},{y})\"))\n",
    "            possible_pits = \" | \".join([f\"P({nx},{ny})\" for nx, ny in self.get_adjacent_cells(x, y)])\n",
    "            if possible_pits:\n",
    "                self.kb.tell(expr(f\"Breeze({x},{y}) ==> ({possible_pits})\"))\n",
    "        else:\n",
    "            self.kb.tell(expr(f\"~Breeze({x},{y})\"))\n",
    "            for nx, ny in self.get_adjacent_cells(x, y):\n",
    "                self.kb.tell(expr(f\"~P({nx},{ny})\"))\n",
    "\n",
    "        if 'S' in percepts:\n",
    "            self.kb.tell(expr(f\"Stench({x},{y})\"))\n",
    "            possible_wumpus = \" | \".join([f\"W({nx},{ny})\" for nx, ny in self.get_adjacent_cells(x, y)])\n",
    "            if possible_wumpus:\n",
    "                self.kb.tell(expr(f\"Stench({x},{y}) ==> ({possible_wumpus})\"))\n",
    "        else:\n",
    "            self.kb.tell(expr(f\"~Stench({x},{y})\"))\n",
    "            for nx, ny in self.get_adjacent_cells(x, y):\n",
    "                self.kb.tell(expr(f\"~W({nx},{ny})\"))\n",
    "\n",
    "    def get_adjacent_cells(self, x, y):\n",
    "        \"\"\"Mendapatkan daftar koordinat tetangga yang valid.\"\"\"\n",
    "        cells = []\n",
    "        for dx, dy in self.gerakan:\n",
    "            nx, ny = x + dx, y + dy\n",
    "            if 1 <= nx <= self.grid_size and 1 <= ny <= self.grid_size:\n",
    "                cells.append((nx, ny))\n",
    "        return cells\n",
    "\n",
    "    def is_safe(self, x, y):\n",
    "        \"\"\"Versi optimal: Cek cache dulu sebelum bertanya ke KB.\"\"\"\n",
    "        if (x, y) in self.safe_cells:\n",
    "            return True\n",
    "\n",
    "        pit_safe_query = expr(f\"~P({x},{y})\")\n",
    "        wumpus_safe_query = expr(f\"~W({x},{y})\")\n",
    "\n",
    "        is_pit_safe = self.kb.ask(pit_safe_query)\n",
    "        is_wumpus_safe = self.kb.ask(wumpus_safe_query)\n",
    "\n",
    "        is_truly_safe = is_pit_safe is not False and is_wumpus_safe is not False\n",
    "        if is_truly_safe:\n",
    "            self.safe_cells.add((x,y))\n",
    "\n",
    "        return is_truly_safe\n",
    "\n",
    "    def _find_path_bfs(self, start, goal_neighbor, allowed_nodes):\n",
    "        \"\"\"Mencari rute terpendek dari start ke goal_neighbor menggunakan BFS.\"\"\"\n",
    "        queue = deque([[start]])\n",
    "        visited_bfs = {start}\n",
    "\n",
    "        while queue:\n",
    "            path = queue.popleft()\n",
    "            node = path[-1]\n",
    "            if node == goal_neighbor:\n",
    "                return path\n",
    "            for neighbor in self.get_adjacent_cells(node[0], node[1]):\n",
    "                if neighbor in allowed_nodes and neighbor not in visited_bfs:\n",
    "                    visited_bfs.add(neighbor)\n",
    "                    new_path = list(path)\n",
    "                    new_path.append(neighbor)\n",
    "                    queue.append(new_path)\n",
    "        return None\n",
    "\n",
    "    def move(self):\n",
    "        \"\"\"Menentukan dan melakukan satu langkah gerakan, termasuk backtracking.\"\"\"\n",
    "        x, y = self.position\n",
    "        \n",
    "        for nx, ny in self.get_adjacent_cells(x, y):\n",
    "            if (nx, ny) not in self.visited and self.is_safe(nx, ny):\n",
    "                print(f\"✅ Menemukan tetangga aman & baru di ({nx},{ny}). Bergerak.\")\n",
    "                self.position = (nx, ny)\n",
    "                self.visited.add(self.position)\n",
    "                self.path.append(self.position)\n",
    "                self.update_kb(nx, ny)\n",
    "                return True\n",
    "\n",
    "        \n",
    "        print(f\"🚧 Jalan buntu di ({x},{y}). Mencari rute lain...\")\n",
    "        safe_unvisited = [cell for cell in self.safe_cells if cell not in self.visited]\n",
    "\n",
    "        if not safe_unvisited:\n",
    "            print(\"❌ Tidak ada lagi sel aman yang bisa dijelajahi.\")\n",
    "            return False\n",
    "\n",
    "        goal = safe_unvisited[0]\n",
    "        print(f\"🎯 Tujuan baru: {goal}. Merencanakan rute...\")\n",
    "\n",
    "        path_target = None\n",
    "        for neighbor in self.get_adjacent_cells(goal[0], goal[1]):\n",
    "            if neighbor in self.visited:\n",
    "                path_target = neighbor\n",
    "                break\n",
    "\n",
    "        if path_target is None: return False\n",
    "\n",
    "        route = self._find_path_bfs(self.position, path_target, self.visited)\n",
    "        if route and len(route) > 1:\n",
    "            next_step = route[1]\n",
    "            print(f\"🗺️ Rute ditemukan. Langkah selanjutnya: {next_step}\")\n",
    "            self.position = next_step\n",
    "            self.path.append(self.position)\n",
    "            return True\n",
    "\n",
    "        print(\"⛔ Tidak bisa menemukan rute untuk backtracking.\")\n",
    "        return False\n",
    "\n",
    "    def find_gold(self):\n",
    "        \"\"\"Loop utama untuk menjalankan agen mencari emas.\"\"\"\n",
    "        print(f\"Memulai pencarian gold dari {self.position}\")\n",
    "        max_steps = 30\n",
    "        step_count = 0\n",
    "\n",
    "        while not self.has_gold and not self.game_over and step_count < max_steps:\n",
    "            step_count += 1\n",
    "            x, y = self.position\n",
    "            percepts = self.get_percepts(x, y)\n",
    "            print(f\"\\n--- Langkah {step_count} ---\")\n",
    "            print(f\"Posisi: ({x},{y}), Percepts: {percepts}\")\n",
    "\n",
    "            if 'G' in percepts:\n",
    "                self.has_gold = True\n",
    "                print(f\"🎉 GOLD DITEMUKAN di ({x},{y})!\")\n",
    "                break\n",
    "            if 'W' in percepts or 'P' in percepts:\n",
    "                self.game_over = True\n",
    "                print(f\"💀 Agent mati di ({x},{y})!\")\n",
    "                break\n",
    "            if not self.move():\n",
    "                self.game_over = True\n",
    "                print(\"🏁 Tidak ada langkah aman. Agen menyerah.\")\n",
    "                break\n",
    "\n",
    "        print(\"\\n--- Hasil Akhir ---\")\n",
    "        if self.has_gold:\n",
    "            print(\"SUKSES: Agent menemukan gold!\")\n",
    "        else:\n",
    "            print(\"GAGAL: Agent tidak menemukan gold atau mati.\")\n",
    "        print(f\"Total langkah: {step_count}\")\n",
    "        print(f\"Jejak langkah: {self.path}\")\n",
    "        return self.has_gold\n"
   ]
  },
  {
   "cell_type": "code",
   "execution_count": 11,
   "id": "2ebc2dd1",
   "metadata": {},
   "outputs": [],
   "source": [
    "import numpy as np\n"
   ]
  },
  {
   "cell_type": "markdown",
   "id": "1eebc3a2",
   "metadata": {},
   "source": [
    "## Menjawab Pertanyaan yang ada di modul"
   ]
  },
  {
   "cell_type": "markdown",
   "id": "7c0b7d9b",
   "metadata": {},
   "source": [
    "#### 1. Definisikan proposisi atau aturan di dunia wumpus"
   ]
  },
  {
   "cell_type": "markdown",
   "id": "ee2600d2",
   "metadata": {},
   "source": [
    "\n",
    "Jawaban dari pertanyaan ini bisa dilihat di method bagian update_kb\n",
    "\n",
    "```python\n",
    "if 'B' in percepts:\n",
    "            self.kb.tell(expr(f\"Breeze({x},{y})\"))\n",
    "            possible_pits = \" | \".join([f\"P({nx},{ny})\" for nx, ny in self.get_adjacent_cells(x, y)])\n",
    "            if possible_pits:\n",
    "                self.kb.tell(expr(f\"Breeze({x},{y}) ==> ({possible_pits})\"))\n",
    "        else:\n",
    "            self.kb.tell(expr(f\"~Breeze({x},{y})\"))\n",
    "            for nx, ny in self.get_adjacent_cells(x, y):\n",
    "                self.kb.tell(expr(f\"~P({nx},{ny})\"))\n",
    "\n",
    "```\n",
    "codingan diatas akan mendeteksi jika percept mendeteksi 'B' maka disekiling petak tersebut akan dicurigai ada jurang. jika tidak, maka petak tersebut akan ditandai tidak 'B' dan disekilingnya tidak ada jurang\n",
    "\n",
    "```python\n",
    "if 'S' in percepts:\n",
    "            self.kb.tell(expr(f\"Stench({x},{y})\"))\n",
    "            possible_wumpus = \" | \".join([f\"W({nx},{ny})\" for nx, ny in self.get_adjacent_cells(x, y)])\n",
    "            if possible_wumpus:\n",
    "                self.kb.tell(expr(f\"Stench({x},{y}) ==> ({possible_wumpus})\"))\n",
    "        else:\n",
    "            self.kb.tell(expr(f\"~Stench({x},{y})\"))\n",
    "            for nx, ny in self.get_adjacent_cells(x, y):\n",
    "                self.kb.tell(expr(f\"~W({nx},{ny})\"))\n",
    "```\n",
    "\n",
    "Sama aja tapi ini versi Wumpusnya\n"
   ]
  },
  {
   "cell_type": "markdown",
   "id": "7c6a58e9",
   "metadata": {},
   "source": [
    "#### 2. Susunlah rangkaian proposisi (R1–Rn) secara sistematis berdasarkan aturan Wumpus World, dimulai dari posisi awal agen di [1,1] hingga dapat dibuktikan bahwa agen berhasil mencapaiemas di [2, 4] dengan aman"
   ]
  },
  {
   "cell_type": "markdown",
   "id": "1a207b4c",
   "metadata": {},
   "source": [
    "Untuk menyelesaikan tugas ini, mari kita lakukan percobaan"
   ]
  },
  {
   "cell_type": "code",
   "execution_count": 5,
   "id": "de42fe3d",
   "metadata": {},
   "outputs": [
    {
     "name": "stdout",
     "output_type": "stream",
     "text": [
      "KB sekarang:\n",
      "[~Breeze(1, 1), ~P(1, 2), ~P(2, 1), ~Stench(1, 1), ~W(1, 2), ~W(2, 1)]\n",
      "Percepts di (1, 1): set()\n",
      "511 ns ± 4.94 ns per loop (mean ± std. dev. of 7 runs, 1,000,000 loops each)\n"
     ]
    }
   ],
   "source": [
    "\n",
    "\n",
    "world = [\n",
    "    [[\"P\"], [\"B\"], [\"B\"], [\"P\"], [\"B\"]],\n",
    "    [[\"B\"], [\"G\"], [], [\"B\"], []],\n",
    "    [[\"P\"], [\"B\"], [],[], []],\n",
    "    [[\"B\"], [], [\"S\"], [\"B\"], []],\n",
    "    [[], [\"S\"], [\"W\"], [\"P\"], [\"B\"]]\n",
    "]\n",
    "\n",
    "agent = WumpusAgent(world, initial_pos=(1,1))\n",
    "\n",
    "print(\"KB sekarang:\")\n",
    "print(agent.kb.clauses)\n",
    "x,y = agent.position\n",
    "print(f\"Percepts di {agent.position}:\", agent.get_percepts(x,y))\n",
    "\n",
    "%timeit np.arange(100)**2"
   ]
  },
  {
   "cell_type": "code",
   "execution_count": 12,
   "id": "e8ca03af",
   "metadata": {},
   "outputs": [
    {
     "data": {
      "text/plain": [
       "[~Breeze(1, 1),\n",
       " ~P(1, 2),\n",
       " ~P(2, 1),\n",
       " ~Stench(1, 1),\n",
       " ~W(1, 2),\n",
       " ~W(2, 1),\n",
       " Breeze(1, 2),\n",
       " (P(1, 3) | P(1, 1) | P(2, 2) | ~Breeze(1, 2)),\n",
       " ~Stench(1, 2),\n",
       " ~W(1, 3),\n",
       " ~W(1, 1),\n",
       " ~W(2, 2),\n",
       " ~Breeze(2, 1),\n",
       " ~P(2, 2),\n",
       " ~P(3, 1),\n",
       " ~P(1, 1),\n",
       " Stench(2, 1),\n",
       " (W(2, 2) | W(3, 1) | W(1, 1) | ~Stench(2, 1)),\n",
       " ~Breeze(2, 2),\n",
       " ~P(2, 3),\n",
       " ~P(2, 1),\n",
       " ~P(3, 2),\n",
       " ~P(1, 2),\n",
       " ~Stench(2, 2),\n",
       " ~W(2, 3),\n",
       " ~W(2, 1),\n",
       " ~W(3, 2),\n",
       " ~W(1, 2),\n",
       " Breeze(2, 3),\n",
       " (P(2, 4) | P(2, 2) | P(3, 3) | P(1, 3) | ~Breeze(2, 3)),\n",
       " ~Stench(2, 3),\n",
       " ~W(2, 4),\n",
       " ~W(2, 2),\n",
       " ~W(3, 3),\n",
       " ~W(1, 3)]"
      ]
     },
     "execution_count": 12,
     "metadata": {},
     "output_type": "execute_result"
    }
   ],
   "source": [
    "agent.kb.clauses"
   ]
  },
  {
   "cell_type": "code",
   "execution_count": 13,
   "id": "76fd7405",
   "metadata": {},
   "outputs": [
    {
     "ename": "KeyboardInterrupt",
     "evalue": "",
     "output_type": "error",
     "traceback": [
      "\u001b[31m---------------------------------------------------------------------------\u001b[39m",
      "\u001b[31mKeyboardInterrupt\u001b[39m                         Traceback (most recent call last)",
      "\u001b[36mCell\u001b[39m\u001b[36m \u001b[39m\u001b[32mIn[13]\u001b[39m\u001b[32m, line 1\u001b[39m\n\u001b[32m----> \u001b[39m\u001b[32m1\u001b[39m \u001b[43magent\u001b[49m\u001b[43m.\u001b[49m\u001b[43mmove\u001b[49m\u001b[43m(\u001b[49m\u001b[43m)\u001b[49m\n",
      "\u001b[36mCell\u001b[39m\u001b[36m \u001b[39m\u001b[32mIn[4]\u001b[39m\u001b[32m, line 117\u001b[39m, in \u001b[36mWumpusAgent.move\u001b[39m\u001b[34m(self)\u001b[39m\n\u001b[32m    114\u001b[39m x, y = \u001b[38;5;28mself\u001b[39m.position\n\u001b[32m    116\u001b[39m \u001b[38;5;28;01mfor\u001b[39;00m nx, ny \u001b[38;5;129;01min\u001b[39;00m \u001b[38;5;28mself\u001b[39m.get_adjacent_cells(x, y):\n\u001b[32m--> \u001b[39m\u001b[32m117\u001b[39m     \u001b[38;5;28;01mif\u001b[39;00m (nx, ny) \u001b[38;5;129;01mnot\u001b[39;00m \u001b[38;5;129;01min\u001b[39;00m \u001b[38;5;28mself\u001b[39m.visited \u001b[38;5;129;01mand\u001b[39;00m \u001b[38;5;28;43mself\u001b[39;49m\u001b[43m.\u001b[49m\u001b[43mis_safe\u001b[49m\u001b[43m(\u001b[49m\u001b[43mnx\u001b[49m\u001b[43m,\u001b[49m\u001b[43m \u001b[49m\u001b[43mny\u001b[49m\u001b[43m)\u001b[49m:\n\u001b[32m    118\u001b[39m         \u001b[38;5;28mprint\u001b[39m(\u001b[33mf\u001b[39m\u001b[33m\"\u001b[39m\u001b[33m✅ Menemukan tetangga aman & baru di (\u001b[39m\u001b[38;5;132;01m{\u001b[39;00mnx\u001b[38;5;132;01m}\u001b[39;00m\u001b[33m,\u001b[39m\u001b[38;5;132;01m{\u001b[39;00mny\u001b[38;5;132;01m}\u001b[39;00m\u001b[33m). Bergerak.\u001b[39m\u001b[33m\"\u001b[39m)\n\u001b[32m    119\u001b[39m         \u001b[38;5;28mself\u001b[39m.position = (nx, ny)\n",
      "\u001b[36mCell\u001b[39m\u001b[36m \u001b[39m\u001b[32mIn[4]\u001b[39m\u001b[32m, line 85\u001b[39m, in \u001b[36mWumpusAgent.is_safe\u001b[39m\u001b[34m(self, x, y)\u001b[39m\n\u001b[32m     82\u001b[39m pit_safe_query = expr(\u001b[33mf\u001b[39m\u001b[33m\"\u001b[39m\u001b[33m~P(\u001b[39m\u001b[38;5;132;01m{\u001b[39;00mx\u001b[38;5;132;01m}\u001b[39;00m\u001b[33m,\u001b[39m\u001b[38;5;132;01m{\u001b[39;00my\u001b[38;5;132;01m}\u001b[39;00m\u001b[33m)\u001b[39m\u001b[33m\"\u001b[39m)\n\u001b[32m     83\u001b[39m wumpus_safe_query = expr(\u001b[33mf\u001b[39m\u001b[33m\"\u001b[39m\u001b[33m~W(\u001b[39m\u001b[38;5;132;01m{\u001b[39;00mx\u001b[38;5;132;01m}\u001b[39;00m\u001b[33m,\u001b[39m\u001b[38;5;132;01m{\u001b[39;00my\u001b[38;5;132;01m}\u001b[39;00m\u001b[33m)\u001b[39m\u001b[33m\"\u001b[39m)\n\u001b[32m---> \u001b[39m\u001b[32m85\u001b[39m is_pit_safe = \u001b[38;5;28;43mself\u001b[39;49m\u001b[43m.\u001b[49m\u001b[43mkb\u001b[49m\u001b[43m.\u001b[49m\u001b[43mask\u001b[49m\u001b[43m(\u001b[49m\u001b[43mpit_safe_query\u001b[49m\u001b[43m)\u001b[49m\n\u001b[32m     86\u001b[39m is_wumpus_safe = \u001b[38;5;28mself\u001b[39m.kb.ask(wumpus_safe_query)\n\u001b[32m     88\u001b[39m is_truly_safe = is_pit_safe \u001b[38;5;129;01mis\u001b[39;00m \u001b[38;5;129;01mnot\u001b[39;00m \u001b[38;5;28;01mFalse\u001b[39;00m \u001b[38;5;129;01mand\u001b[39;00m is_wumpus_safe \u001b[38;5;129;01mis\u001b[39;00m \u001b[38;5;129;01mnot\u001b[39;00m \u001b[38;5;28;01mFalse\u001b[39;00m\n",
      "\u001b[36mFile \u001b[39m\u001b[32m~/Kuliah/Semester 3/Kecerdasan Komputasional/Tugas Akhir Modul 1/logic.py:69\u001b[39m, in \u001b[36mKB.ask\u001b[39m\u001b[34m(self, query)\u001b[39m\n\u001b[32m     67\u001b[39m \u001b[38;5;28;01mdef\u001b[39;00m\u001b[38;5;250m \u001b[39m\u001b[34mask\u001b[39m(\u001b[38;5;28mself\u001b[39m, query):\n\u001b[32m     68\u001b[39m \u001b[38;5;250m    \u001b[39m\u001b[33;03m\"\"\"Return a substitution that makes the query true, or, failing that, return False.\"\"\"\u001b[39;00m\n\u001b[32m---> \u001b[39m\u001b[32m69\u001b[39m     \u001b[38;5;28;01mreturn\u001b[39;00m \u001b[43mfirst\u001b[49m\u001b[43m(\u001b[49m\u001b[38;5;28;43mself\u001b[39;49m\u001b[43m.\u001b[49m\u001b[43mask_generator\u001b[49m\u001b[43m(\u001b[49m\u001b[43mquery\u001b[49m\u001b[43m)\u001b[49m\u001b[43m,\u001b[49m\u001b[43m \u001b[49m\u001b[43mdefault\u001b[49m\u001b[43m=\u001b[49m\u001b[38;5;28;43;01mFalse\u001b[39;49;00m\u001b[43m)\u001b[49m\n",
      "\u001b[36mFile \u001b[39m\u001b[32m~/Kuliah/Semester 3/Kecerdasan Komputasional/Tugas Akhir Modul 1/utils.py:73\u001b[39m, in \u001b[36mfirst\u001b[39m\u001b[34m(iterable, default)\u001b[39m\n\u001b[32m     71\u001b[39m \u001b[38;5;28;01mdef\u001b[39;00m\u001b[38;5;250m \u001b[39m\u001b[34mfirst\u001b[39m(iterable, default=\u001b[38;5;28;01mNone\u001b[39;00m):\n\u001b[32m     72\u001b[39m \u001b[38;5;250m    \u001b[39m\u001b[33;03m\"\"\"Return the first element of an iterable; or default.\"\"\"\u001b[39;00m\n\u001b[32m---> \u001b[39m\u001b[32m73\u001b[39m     \u001b[38;5;28;01mreturn\u001b[39;00m \u001b[38;5;28;43mnext\u001b[39;49m\u001b[43m(\u001b[49m\u001b[38;5;28;43miter\u001b[39;49m\u001b[43m(\u001b[49m\u001b[43miterable\u001b[49m\u001b[43m)\u001b[49m\u001b[43m,\u001b[49m\u001b[43m \u001b[49m\u001b[43mdefault\u001b[49m\u001b[43m)\u001b[49m\n",
      "\u001b[36mFile \u001b[39m\u001b[32m~/Kuliah/Semester 3/Kecerdasan Komputasional/Tugas Akhir Modul 1/logic.py:93\u001b[39m, in \u001b[36mPropKB.ask_generator\u001b[39m\u001b[34m(self, query)\u001b[39m\n\u001b[32m     91\u001b[39m \u001b[38;5;28;01mdef\u001b[39;00m\u001b[38;5;250m \u001b[39m\u001b[34mask_generator\u001b[39m(\u001b[38;5;28mself\u001b[39m, query):\n\u001b[32m     92\u001b[39m \u001b[38;5;250m    \u001b[39m\u001b[33;03m\"\"\"Yield the empty substitution {} if KB entails query; else no results.\"\"\"\u001b[39;00m\n\u001b[32m---> \u001b[39m\u001b[32m93\u001b[39m     \u001b[38;5;28;01mif\u001b[39;00m \u001b[43mtt_entails\u001b[49m\u001b[43m(\u001b[49m\u001b[43mExpr\u001b[49m\u001b[43m(\u001b[49m\u001b[33;43m'\u001b[39;49m\u001b[33;43m&\u001b[39;49m\u001b[33;43m'\u001b[39;49m\u001b[43m,\u001b[49m\u001b[43m \u001b[49m\u001b[43m*\u001b[49m\u001b[38;5;28;43mself\u001b[39;49m\u001b[43m.\u001b[49m\u001b[43mclauses\u001b[49m\u001b[43m)\u001b[49m\u001b[43m,\u001b[49m\u001b[43m \u001b[49m\u001b[43mquery\u001b[49m\u001b[43m)\u001b[49m:\n\u001b[32m     94\u001b[39m         \u001b[38;5;28;01myield\u001b[39;00m {}\n",
      "\u001b[36mFile \u001b[39m\u001b[32m~/Kuliah/Semester 3/Kecerdasan Komputasional/Tugas Akhir Modul 1/logic.py:214\u001b[39m, in \u001b[36mtt_entails\u001b[39m\u001b[34m(kb, alpha)\u001b[39m\n\u001b[32m    212\u001b[39m \u001b[38;5;28;01massert\u001b[39;00m \u001b[38;5;129;01mnot\u001b[39;00m variables(alpha)\n\u001b[32m    213\u001b[39m symbols = \u001b[38;5;28mlist\u001b[39m(prop_symbols(kb & alpha))\n\u001b[32m--> \u001b[39m\u001b[32m214\u001b[39m \u001b[38;5;28;01mreturn\u001b[39;00m \u001b[43mtt_check_all\u001b[49m\u001b[43m(\u001b[49m\u001b[43mkb\u001b[49m\u001b[43m,\u001b[49m\u001b[43m \u001b[49m\u001b[43malpha\u001b[49m\u001b[43m,\u001b[49m\u001b[43m \u001b[49m\u001b[43msymbols\u001b[49m\u001b[43m,\u001b[49m\u001b[43m \u001b[49m\u001b[43m{\u001b[49m\u001b[43m}\u001b[49m\u001b[43m)\u001b[49m\n",
      "\u001b[36mFile \u001b[39m\u001b[32m~/Kuliah/Semester 3/Kecerdasan Komputasional/Tugas Akhir Modul 1/logic.py:228\u001b[39m, in \u001b[36mtt_check_all\u001b[39m\u001b[34m(kb, alpha, symbols, model)\u001b[39m\n\u001b[32m    226\u001b[39m \u001b[38;5;28;01melse\u001b[39;00m:\n\u001b[32m    227\u001b[39m     P, rest = symbols[\u001b[32m0\u001b[39m], symbols[\u001b[32m1\u001b[39m:]\n\u001b[32m--> \u001b[39m\u001b[32m228\u001b[39m     \u001b[38;5;28;01mreturn\u001b[39;00m (\u001b[43mtt_check_all\u001b[49m\u001b[43m(\u001b[49m\u001b[43mkb\u001b[49m\u001b[43m,\u001b[49m\u001b[43m \u001b[49m\u001b[43malpha\u001b[49m\u001b[43m,\u001b[49m\u001b[43m \u001b[49m\u001b[43mrest\u001b[49m\u001b[43m,\u001b[49m\u001b[43m \u001b[49m\u001b[43mextend\u001b[49m\u001b[43m(\u001b[49m\u001b[43mmodel\u001b[49m\u001b[43m,\u001b[49m\u001b[43m \u001b[49m\u001b[43mP\u001b[49m\u001b[43m,\u001b[49m\u001b[43m \u001b[49m\u001b[38;5;28;43;01mTrue\u001b[39;49;00m\u001b[43m)\u001b[49m\u001b[43m)\u001b[49m \u001b[38;5;129;01mand\u001b[39;00m\n\u001b[32m    229\u001b[39m             tt_check_all(kb, alpha, rest, extend(model, P, \u001b[38;5;28;01mFalse\u001b[39;00m)))\n",
      "\u001b[36mFile \u001b[39m\u001b[32m~/Kuliah/Semester 3/Kecerdasan Komputasional/Tugas Akhir Modul 1/logic.py:228\u001b[39m, in \u001b[36mtt_check_all\u001b[39m\u001b[34m(kb, alpha, symbols, model)\u001b[39m\n\u001b[32m    226\u001b[39m \u001b[38;5;28;01melse\u001b[39;00m:\n\u001b[32m    227\u001b[39m     P, rest = symbols[\u001b[32m0\u001b[39m], symbols[\u001b[32m1\u001b[39m:]\n\u001b[32m--> \u001b[39m\u001b[32m228\u001b[39m     \u001b[38;5;28;01mreturn\u001b[39;00m (\u001b[43mtt_check_all\u001b[49m\u001b[43m(\u001b[49m\u001b[43mkb\u001b[49m\u001b[43m,\u001b[49m\u001b[43m \u001b[49m\u001b[43malpha\u001b[49m\u001b[43m,\u001b[49m\u001b[43m \u001b[49m\u001b[43mrest\u001b[49m\u001b[43m,\u001b[49m\u001b[43m \u001b[49m\u001b[43mextend\u001b[49m\u001b[43m(\u001b[49m\u001b[43mmodel\u001b[49m\u001b[43m,\u001b[49m\u001b[43m \u001b[49m\u001b[43mP\u001b[49m\u001b[43m,\u001b[49m\u001b[43m \u001b[49m\u001b[38;5;28;43;01mTrue\u001b[39;49;00m\u001b[43m)\u001b[49m\u001b[43m)\u001b[49m \u001b[38;5;129;01mand\u001b[39;00m\n\u001b[32m    229\u001b[39m             tt_check_all(kb, alpha, rest, extend(model, P, \u001b[38;5;28;01mFalse\u001b[39;00m)))\n",
      "    \u001b[31m[... skipping similar frames: tt_check_all at line 228 (4 times)]\u001b[39m\n",
      "\u001b[36mFile \u001b[39m\u001b[32m~/Kuliah/Semester 3/Kecerdasan Komputasional/Tugas Akhir Modul 1/logic.py:229\u001b[39m, in \u001b[36mtt_check_all\u001b[39m\u001b[34m(kb, alpha, symbols, model)\u001b[39m\n\u001b[32m    226\u001b[39m \u001b[38;5;28;01melse\u001b[39;00m:\n\u001b[32m    227\u001b[39m     P, rest = symbols[\u001b[32m0\u001b[39m], symbols[\u001b[32m1\u001b[39m:]\n\u001b[32m    228\u001b[39m     \u001b[38;5;28;01mreturn\u001b[39;00m (tt_check_all(kb, alpha, rest, extend(model, P, \u001b[38;5;28;01mTrue\u001b[39;00m)) \u001b[38;5;129;01mand\u001b[39;00m\n\u001b[32m--> \u001b[39m\u001b[32m229\u001b[39m             \u001b[43mtt_check_all\u001b[49m\u001b[43m(\u001b[49m\u001b[43mkb\u001b[49m\u001b[43m,\u001b[49m\u001b[43m \u001b[49m\u001b[43malpha\u001b[49m\u001b[43m,\u001b[49m\u001b[43m \u001b[49m\u001b[43mrest\u001b[49m\u001b[43m,\u001b[49m\u001b[43m \u001b[49m\u001b[43mextend\u001b[49m\u001b[43m(\u001b[49m\u001b[43mmodel\u001b[49m\u001b[43m,\u001b[49m\u001b[43m \u001b[49m\u001b[43mP\u001b[49m\u001b[43m,\u001b[49m\u001b[43m \u001b[49m\u001b[38;5;28;43;01mFalse\u001b[39;49;00m\u001b[43m)\u001b[49m\u001b[43m)\u001b[49m)\n",
      "\u001b[36mFile \u001b[39m\u001b[32m~/Kuliah/Semester 3/Kecerdasan Komputasional/Tugas Akhir Modul 1/logic.py:229\u001b[39m, in \u001b[36mtt_check_all\u001b[39m\u001b[34m(kb, alpha, symbols, model)\u001b[39m\n\u001b[32m    226\u001b[39m \u001b[38;5;28;01melse\u001b[39;00m:\n\u001b[32m    227\u001b[39m     P, rest = symbols[\u001b[32m0\u001b[39m], symbols[\u001b[32m1\u001b[39m:]\n\u001b[32m    228\u001b[39m     \u001b[38;5;28;01mreturn\u001b[39;00m (tt_check_all(kb, alpha, rest, extend(model, P, \u001b[38;5;28;01mTrue\u001b[39;00m)) \u001b[38;5;129;01mand\u001b[39;00m\n\u001b[32m--> \u001b[39m\u001b[32m229\u001b[39m             \u001b[43mtt_check_all\u001b[49m\u001b[43m(\u001b[49m\u001b[43mkb\u001b[49m\u001b[43m,\u001b[49m\u001b[43m \u001b[49m\u001b[43malpha\u001b[49m\u001b[43m,\u001b[49m\u001b[43m \u001b[49m\u001b[43mrest\u001b[49m\u001b[43m,\u001b[49m\u001b[43m \u001b[49m\u001b[43mextend\u001b[49m\u001b[43m(\u001b[49m\u001b[43mmodel\u001b[49m\u001b[43m,\u001b[49m\u001b[43m \u001b[49m\u001b[43mP\u001b[49m\u001b[43m,\u001b[49m\u001b[43m \u001b[49m\u001b[38;5;28;43;01mFalse\u001b[39;49;00m\u001b[43m)\u001b[49m\u001b[43m)\u001b[49m)\n",
      "    \u001b[31m[... skipping similar frames: tt_check_all at line 229 (11 times), tt_check_all at line 228 (9 times)]\u001b[39m\n",
      "\u001b[36mFile \u001b[39m\u001b[32m~/Kuliah/Semester 3/Kecerdasan Komputasional/Tugas Akhir Modul 1/logic.py:228\u001b[39m, in \u001b[36mtt_check_all\u001b[39m\u001b[34m(kb, alpha, symbols, model)\u001b[39m\n\u001b[32m    226\u001b[39m \u001b[38;5;28;01melse\u001b[39;00m:\n\u001b[32m    227\u001b[39m     P, rest = symbols[\u001b[32m0\u001b[39m], symbols[\u001b[32m1\u001b[39m:]\n\u001b[32m--> \u001b[39m\u001b[32m228\u001b[39m     \u001b[38;5;28;01mreturn\u001b[39;00m (\u001b[43mtt_check_all\u001b[49m\u001b[43m(\u001b[49m\u001b[43mkb\u001b[49m\u001b[43m,\u001b[49m\u001b[43m \u001b[49m\u001b[43malpha\u001b[49m\u001b[43m,\u001b[49m\u001b[43m \u001b[49m\u001b[43mrest\u001b[49m\u001b[43m,\u001b[49m\u001b[43m \u001b[49m\u001b[43mextend\u001b[49m\u001b[43m(\u001b[49m\u001b[43mmodel\u001b[49m\u001b[43m,\u001b[49m\u001b[43m \u001b[49m\u001b[43mP\u001b[49m\u001b[43m,\u001b[49m\u001b[43m \u001b[49m\u001b[38;5;28;43;01mTrue\u001b[39;49;00m\u001b[43m)\u001b[49m\u001b[43m)\u001b[49m \u001b[38;5;129;01mand\u001b[39;00m\n\u001b[32m    229\u001b[39m             tt_check_all(kb, alpha, rest, extend(model, P, \u001b[38;5;28;01mFalse\u001b[39;00m)))\n",
      "\u001b[36mFile \u001b[39m\u001b[32m~/Kuliah/Semester 3/Kecerdasan Komputasional/Tugas Akhir Modul 1/logic.py:229\u001b[39m, in \u001b[36mtt_check_all\u001b[39m\u001b[34m(kb, alpha, symbols, model)\u001b[39m\n\u001b[32m    226\u001b[39m \u001b[38;5;28;01melse\u001b[39;00m:\n\u001b[32m    227\u001b[39m     P, rest = symbols[\u001b[32m0\u001b[39m], symbols[\u001b[32m1\u001b[39m:]\n\u001b[32m    228\u001b[39m     \u001b[38;5;28;01mreturn\u001b[39;00m (tt_check_all(kb, alpha, rest, extend(model, P, \u001b[38;5;28;01mTrue\u001b[39;00m)) \u001b[38;5;129;01mand\u001b[39;00m\n\u001b[32m--> \u001b[39m\u001b[32m229\u001b[39m             \u001b[43mtt_check_all\u001b[49m\u001b[43m(\u001b[49m\u001b[43mkb\u001b[49m\u001b[43m,\u001b[49m\u001b[43m \u001b[49m\u001b[43malpha\u001b[49m\u001b[43m,\u001b[49m\u001b[43m \u001b[49m\u001b[43mrest\u001b[49m\u001b[43m,\u001b[49m\u001b[43m \u001b[49m\u001b[43mextend\u001b[49m\u001b[43m(\u001b[49m\u001b[43mmodel\u001b[49m\u001b[43m,\u001b[49m\u001b[43m \u001b[49m\u001b[43mP\u001b[49m\u001b[43m,\u001b[49m\u001b[43m \u001b[49m\u001b[38;5;28;43;01mFalse\u001b[39;49;00m\u001b[43m)\u001b[49m\u001b[43m)\u001b[49m)\n",
      "\u001b[36mFile \u001b[39m\u001b[32m~/Kuliah/Semester 3/Kecerdasan Komputasional/Tugas Akhir Modul 1/logic.py:220\u001b[39m, in \u001b[36mtt_check_all\u001b[39m\u001b[34m(kb, alpha, symbols, model)\u001b[39m\n\u001b[32m    218\u001b[39m \u001b[38;5;250m\u001b[39m\u001b[33;03m\"\"\"Auxiliary routine to implement tt_entails.\"\"\"\u001b[39;00m\n\u001b[32m    219\u001b[39m \u001b[38;5;28;01mif\u001b[39;00m \u001b[38;5;129;01mnot\u001b[39;00m symbols:\n\u001b[32m--> \u001b[39m\u001b[32m220\u001b[39m     \u001b[38;5;28;01mif\u001b[39;00m \u001b[43mpl_true\u001b[49m\u001b[43m(\u001b[49m\u001b[43mkb\u001b[49m\u001b[43m,\u001b[49m\u001b[43m \u001b[49m\u001b[43mmodel\u001b[49m\u001b[43m)\u001b[49m:\n\u001b[32m    221\u001b[39m         result = pl_true(alpha, model)\n\u001b[32m    222\u001b[39m         \u001b[38;5;28;01massert\u001b[39;00m result \u001b[38;5;129;01min\u001b[39;00m (\u001b[38;5;28;01mTrue\u001b[39;00m, \u001b[38;5;28;01mFalse\u001b[39;00m)\n",
      "\u001b[36mFile \u001b[39m\u001b[32m~/Kuliah/Semester 3/Kecerdasan Komputasional/Tugas Akhir Modul 1/logic.py:302\u001b[39m, in \u001b[36mpl_true\u001b[39m\u001b[34m(exp, model)\u001b[39m\n\u001b[32m    300\u001b[39m result = \u001b[38;5;28;01mTrue\u001b[39;00m\n\u001b[32m    301\u001b[39m \u001b[38;5;28;01mfor\u001b[39;00m arg \u001b[38;5;129;01min\u001b[39;00m args:\n\u001b[32m--> \u001b[39m\u001b[32m302\u001b[39m     p = \u001b[43mpl_true\u001b[49m\u001b[43m(\u001b[49m\u001b[43marg\u001b[49m\u001b[43m,\u001b[49m\u001b[43m \u001b[49m\u001b[43mmodel\u001b[49m\u001b[43m)\u001b[49m\n\u001b[32m    303\u001b[39m     \u001b[38;5;28;01mif\u001b[39;00m p \u001b[38;5;129;01mis\u001b[39;00m \u001b[38;5;28;01mFalse\u001b[39;00m:\n\u001b[32m    304\u001b[39m         \u001b[38;5;28;01mreturn\u001b[39;00m \u001b[38;5;28;01mFalse\u001b[39;00m\n",
      "\u001b[36mFile \u001b[39m\u001b[32m~/Kuliah/Semester 3/Kecerdasan Komputasional/Tugas Akhir Modul 1/logic.py:285\u001b[39m, in \u001b[36mpl_true\u001b[39m\u001b[34m(exp, model)\u001b[39m\n\u001b[32m    283\u001b[39m     \u001b[38;5;28;01mreturn\u001b[39;00m model.get(exp)\n\u001b[32m    284\u001b[39m \u001b[38;5;28;01melif\u001b[39;00m op == \u001b[33m'\u001b[39m\u001b[33m~\u001b[39m\u001b[33m'\u001b[39m:\n\u001b[32m--> \u001b[39m\u001b[32m285\u001b[39m     p = \u001b[43mpl_true\u001b[49m\u001b[43m(\u001b[49m\u001b[43margs\u001b[49m\u001b[43m[\u001b[49m\u001b[32;43m0\u001b[39;49m\u001b[43m]\u001b[49m\u001b[43m,\u001b[49m\u001b[43m \u001b[49m\u001b[43mmodel\u001b[49m\u001b[43m)\u001b[49m\n\u001b[32m    286\u001b[39m     \u001b[38;5;28;01mif\u001b[39;00m p \u001b[38;5;129;01mis\u001b[39;00m \u001b[38;5;28;01mNone\u001b[39;00m:\n\u001b[32m    287\u001b[39m         \u001b[38;5;28;01mreturn\u001b[39;00m \u001b[38;5;28;01mNone\u001b[39;00m\n",
      "\u001b[36mFile \u001b[39m\u001b[32m~/Kuliah/Semester 3/Kecerdasan Komputasional/Tugas Akhir Modul 1/logic.py:283\u001b[39m, in \u001b[36mpl_true\u001b[39m\u001b[34m(exp, model)\u001b[39m\n\u001b[32m    281\u001b[39m op, args = exp.op, exp.args\n\u001b[32m    282\u001b[39m \u001b[38;5;28;01mif\u001b[39;00m is_prop_symbol(op):\n\u001b[32m--> \u001b[39m\u001b[32m283\u001b[39m     \u001b[38;5;28;01mreturn\u001b[39;00m \u001b[43mmodel\u001b[49m\u001b[43m.\u001b[49m\u001b[43mget\u001b[49m\u001b[43m(\u001b[49m\u001b[43mexp\u001b[49m\u001b[43m)\u001b[49m\n\u001b[32m    284\u001b[39m \u001b[38;5;28;01melif\u001b[39;00m op == \u001b[33m'\u001b[39m\u001b[33m~\u001b[39m\u001b[33m'\u001b[39m:\n\u001b[32m    285\u001b[39m     p = pl_true(args[\u001b[32m0\u001b[39m], model)\n",
      "\u001b[31mKeyboardInterrupt\u001b[39m: "
     ]
    }
   ],
   "source": [
    "agent.move()"
   ]
  },
  {
   "cell_type": "markdown",
   "id": "9b6486d5",
   "metadata": {},
   "source": [
    "[,\n",
    " ~B(1, 1), \n",
    " ~S(1, 1), \n",
    " (~P(1, 2) | B(1, 1)), \n",
    " (~P(2, 1) | B(1, 1)), \n",
    " (~W(1, 2) | S(1, 1)), \n",
    " (~W(2, 1) | S(1, 1)), \n",
    " ]\n",
    "\n",
    "\n",
    "itu adalah klausa yang didapatkan dari agen yang berada di 1,1. terdapat klausa bahwa di titik 1,1 tidak ada breze ataupun Stench. itu menandakan di titik 1,2 dan 2,1 itu aman. oleh karena itu, ketika kita tanya agent tentang apakah ada Wumpus atau pit di 1,2 atau di 2,1, akan memunculkan False"
   ]
  },
  {
   "cell_type": "code",
   "execution_count": 13,
   "id": "cb3ed92b",
   "metadata": {},
   "outputs": [
    {
     "name": "stdout",
     "output_type": "stream",
     "text": [
      "848 ns ± 16.4 ns per loop (mean ± std. dev. of 7 runs, 1,000,000 loops each)\n"
     ]
    }
   ],
   "source": [
    "agent.kb.ask(expr('W(1,2) | W(2,1)')), agent.kb.ask(expr('P(1,2) | P(2,1)'))\n",
    "\n",
    "%timeit np.arange(100)**2"
   ]
  },
  {
   "cell_type": "markdown",
   "id": "e3b07b3e",
   "metadata": {},
   "source": [
    "Agent bisa berpindah ke salah satu petak tersebut"
   ]
  },
  {
   "cell_type": "code",
   "execution_count": 14,
   "id": "6d0127b7",
   "metadata": {},
   "outputs": [
    {
     "name": "stdout",
     "output_type": "stream",
     "text": [
      "✅ Menemukan tetangga aman & baru di (1,2). Bergerak.\n",
      "784 ns ± 8.62 ns per loop (mean ± std. dev. of 7 runs, 1,000,000 loops each)\n"
     ]
    }
   ],
   "source": [
    "agent.move()\n",
    "\n",
    "%timeit np.arange(100)**2"
   ]
  },
  {
   "cell_type": "code",
   "execution_count": 15,
   "id": "07a2b8d1",
   "metadata": {},
   "outputs": [
    {
     "name": "stdout",
     "output_type": "stream",
     "text": [
      "[~Breeze(1, 1), ~P(1, 2), ~P(2, 1), ~Stench(1, 1), ~W(1, 2), ~W(2, 1), Breeze(1, 2), (P(1, 3) | P(1, 1) | P(2, 2) | ~Breeze(1, 2)), ~Stench(1, 2), ~W(1, 3), ~W(1, 1), ~W(2, 2)]\n",
      "Percepts di (1, 2): {'B'}\n",
      "871 ns ± 34.1 ns per loop (mean ± std. dev. of 7 runs, 1,000,000 loops each)\n"
     ]
    }
   ],
   "source": [
    "print(agent.kb.clauses)\n",
    "x,y = agent.position\n",
    "print(f\"Percepts di {agent.position}:\", agent.get_percepts(x,y))\n",
    "\n",
    "%timeit np.arange(100)**2"
   ]
  },
  {
   "cell_type": "markdown",
   "id": "bc4cda82",
   "metadata": {},
   "source": [
    "Agent Berpindah ke 1,2\n",
    "\n",
    "Safe(1, 1),\n",
    " ~B(1, 1), \n",
    " ~S(1, 1),\n",
    "(~P(1, 2) | B(1, 1)),\n",
    "(~P(2, 1) | B(1, 1)),\n",
    "(~W(1, 2) | S(1, 1)),\n",
    "(~W(2, 1) | S(1, 1)),\n",
    "Safe(1, 1),\n",
    "B(1, 2), \n",
    "~S(1, 2),\n",
    "(P(1, 3) | ~B(1, 2)),\n",
    "(P(1, 1) | ~B(1, 2)), \n",
    "(P(2, 2) | ~B(1, 2)), \n",
    "(~W(1, 3) | S(1, 2)), \n",
    "(~W(1, 1) | S(1, 2)), \n",
    "(~W(2, 2) | S(1, 2))\n",
    "\n",
    "Ini adalah Klausa yang didapatkan agent dari perpindahan. kita mengetahui bahwa B(1,2) itu True, klausa pada agen\n",
    "(P(1, 3) | ~B(1, 2)),\n",
    "\n",
    "(P(1, 1) | ~B(1, 2)), \n",
    "\n",
    "(P(2, 2) | ~B(1, 2)),\n",
    "\n",
    "ini menghasilkan jika ~P(1,3) maka ~B(1,2) lalu begitu pula dengan klausa 2 dan 3. jika B(1,2) adalah True. maka pernyataan itu dianggap salah.\n",
    "\n",
    "awalnya kita sudah mengecek jika 1,1 tidak ada pit. dan kita tidak punya pengetahuan akan 1,3 dan 2,2. oleh karena itu agen akan milih mundur."
   ]
  },
  {
   "cell_type": "code",
   "execution_count": 16,
   "id": "c55bd4ae",
   "metadata": {},
   "outputs": [
    {
     "name": "stdout",
     "output_type": "stream",
     "text": [
      "🚧 Jalan buntu di (1,2). Mencari rute lain...\n",
      "🎯 Tujuan baru: (2, 1). Merencanakan rute...\n",
      "🗺️ Rute ditemukan. Langkah selanjutnya: (1, 1)\n",
      "853 ns ± 18.3 ns per loop (mean ± std. dev. of 7 runs, 1,000,000 loops each)\n"
     ]
    }
   ],
   "source": [
    "agent.move()\n",
    "\n",
    "%timeit np.arange(100)**2"
   ]
  },
  {
   "cell_type": "code",
   "execution_count": 17,
   "id": "f6d5610c",
   "metadata": {},
   "outputs": [
    {
     "name": "stdout",
     "output_type": "stream",
     "text": [
      "[~Breeze(1, 1), ~P(1, 2), ~P(2, 1), ~Stench(1, 1), ~W(1, 2), ~W(2, 1), Breeze(1, 2), (P(1, 3) | P(1, 1) | P(2, 2) | ~Breeze(1, 2)), ~Stench(1, 2), ~W(1, 3), ~W(1, 1), ~W(2, 2)]\n",
      "Percepts di (1, 1): set()\n",
      "859 ns ± 15.2 ns per loop (mean ± std. dev. of 7 runs, 1,000,000 loops each)\n"
     ]
    }
   ],
   "source": [
    "print(agent.kb.clauses)\n",
    "x,y = agent.position\n",
    "print(f\"Percepts di {agent.position}:\", agent.get_percepts(x,y))\n",
    "\n",
    "%timeit np.arange(100)**2"
   ]
  },
  {
   "cell_type": "code",
   "execution_count": 18,
   "id": "b4bd3213",
   "metadata": {},
   "outputs": [
    {
     "name": "stdout",
     "output_type": "stream",
     "text": [
      "✅ Menemukan tetangga aman & baru di (2,1). Bergerak.\n",
      "868 ns ± 16.1 ns per loop (mean ± std. dev. of 7 runs, 1,000,000 loops each)\n"
     ]
    }
   ],
   "source": [
    "agent.move()\n",
    "\n",
    "%timeit np.arange(100)**2"
   ]
  },
  {
   "cell_type": "code",
   "execution_count": 19,
   "id": "d21779ec",
   "metadata": {},
   "outputs": [
    {
     "name": "stdout",
     "output_type": "stream",
     "text": [
      "[~Breeze(1, 1), ~P(1, 2), ~P(2, 1), ~Stench(1, 1), ~W(1, 2), ~W(2, 1), Breeze(1, 2), (P(1, 3) | P(1, 1) | P(2, 2) | ~Breeze(1, 2)), ~Stench(1, 2), ~W(1, 3), ~W(1, 1), ~W(2, 2), ~Breeze(2, 1), ~P(2, 2), ~P(3, 1), ~P(1, 1), Stench(2, 1), (W(2, 2) | W(3, 1) | W(1, 1) | ~Stench(2, 1))]\n",
      "Percepts di (2, 1): {'S'}\n",
      "822 ns ± 13.9 ns per loop (mean ± std. dev. of 7 runs, 1,000,000 loops each)\n"
     ]
    }
   ],
   "source": [
    "print(agent.kb.clauses)\n",
    "x,y = agent.position\n",
    "print(f\"Percepts di {agent.position}:\", agent.get_percepts(x,y))\n",
    "\n",
    "%timeit np.arange(100)**2"
   ]
  },
  {
   "cell_type": "markdown",
   "id": "fe384e51",
   "metadata": {},
   "source": [
    "[~Breeze(1, 1), ~P(1, 2), ~P(2, 1), ~Stench(1, 1), ~W(1, 2), ~W(2, 1), Breeze(1, 2), (P(1, 3) | P(1, 1) | P(2, 2) | ~Breeze(1, 2)), ~Stench(1, 2), ~W(1, 3), ~W(1, 1), ~W(2, 2), ~Breeze(2, 1), ~P(2, 2), ~P(3, 1), ~P(1, 1), Stench(2, 1), (W(2, 2) | W(3, 1) | W(1, 1) | ~Stench(2, 1))]\n",
    "\n",
    "klausa tersebut yang dikumpulkan agent\n",
    "\n",
    "kita fokus pada klausa (W(2, 2) | W(3, 1) | W(1, 1) | ~Stench(2, 1))\n",
    "\n",
    "diketahui bahwa Stench(2, 1) adalah True\n",
    "\n",
    "W(2,2) bisa dianggap aman karena agent punya klausa bahwa ~Stench(1, 2) dimana harusnya ada bau di 1,2"
   ]
  },
  {
   "cell_type": "code",
   "execution_count": 20,
   "id": "06d8e358",
   "metadata": {},
   "outputs": [
    {
     "name": "stdout",
     "output_type": "stream",
     "text": [
      "✅ Menemukan tetangga aman & baru di (2,2). Bergerak.\n",
      "815 ns ± 13.5 ns per loop (mean ± std. dev. of 7 runs, 1,000,000 loops each)\n"
     ]
    }
   ],
   "source": [
    "agent.move()\n",
    "\n",
    "%timeit np.arange(100)**2"
   ]
  },
  {
   "cell_type": "code",
   "execution_count": 21,
   "id": "203669b4",
   "metadata": {},
   "outputs": [
    {
     "name": "stdout",
     "output_type": "stream",
     "text": [
      "[~Breeze(1, 1), ~P(1, 2), ~P(2, 1), ~Stench(1, 1), ~W(1, 2), ~W(2, 1), Breeze(1, 2), (P(1, 3) | P(1, 1) | P(2, 2) | ~Breeze(1, 2)), ~Stench(1, 2), ~W(1, 3), ~W(1, 1), ~W(2, 2), ~Breeze(2, 1), ~P(2, 2), ~P(3, 1), ~P(1, 1), Stench(2, 1), (W(2, 2) | W(3, 1) | W(1, 1) | ~Stench(2, 1)), ~Breeze(2, 2), ~P(2, 3), ~P(2, 1), ~P(3, 2), ~P(1, 2), ~Stench(2, 2), ~W(2, 3), ~W(2, 1), ~W(3, 2), ~W(1, 2)]\n",
      "Percepts di (2, 2): set()\n",
      "808 ns ± 20.7 ns per loop (mean ± std. dev. of 7 runs, 1,000,000 loops each)\n"
     ]
    }
   ],
   "source": [
    "print(agent.kb.clauses)\n",
    "x,y = agent.position\n",
    "print(f\"Percepts di {agent.position}:\", agent.get_percepts(x,y))\n",
    "\n",
    "%timeit np.arange(100)**2"
   ]
  },
  {
   "cell_type": "markdown",
   "id": "3ae6fb2b",
   "metadata": {},
   "source": [
    "[~Breeze(1, 1), ~P(1, 2), ~P(2, 1), ~Stench(1, 1), ~W(1, 2), ~W(2, 1), Breeze(1, 2), (P(1, 3) | P(1, 1) | P(2, 2) | ~Breeze(1, 2)), ~Stench(1, 2), ~W(1, 3), ~W(1, 1), ~W(2, 2), ~Breeze(2, 1), ~P(2, 2), ~P(3, 1), ~P(1, 1), Stench(2, 1), (W(2, 2) | W(3, 1) | W(1, 1) | ~Stench(2, 1)), ~Breeze(2, 2), ~P(2, 3), ~P(2, 1), ~P(3, 2), ~P(1, 2), ~Stench(2, 2), ~W(2, 3), ~W(2, 1), ~W(3, 2), ~W(1, 2)]\n",
    "\n",
    "adalah klausa yang didapat oleh agent\n",
    "\n",
    "di sana terdapat  ~P(2, 3) dan ~W(2, 3). Artinya 2,3 aman"
   ]
  },
  {
   "cell_type": "code",
   "execution_count": 22,
   "id": "4e514f10",
   "metadata": {},
   "outputs": [
    {
     "name": "stdout",
     "output_type": "stream",
     "text": [
      "✅ Menemukan tetangga aman & baru di (2,3). Bergerak.\n",
      "814 ns ± 31.2 ns per loop (mean ± std. dev. of 7 runs, 1,000,000 loops each)\n"
     ]
    }
   ],
   "source": [
    "agent.move()\n",
    "\n",
    "%timeit np.arange(100)**2"
   ]
  },
  {
   "cell_type": "code",
   "execution_count": 23,
   "id": "04fc9cef",
   "metadata": {},
   "outputs": [
    {
     "name": "stdout",
     "output_type": "stream",
     "text": [
      "[~Breeze(1, 1), ~P(1, 2), ~P(2, 1), ~Stench(1, 1), ~W(1, 2), ~W(2, 1), Breeze(1, 2), (P(1, 3) | P(1, 1) | P(2, 2) | ~Breeze(1, 2)), ~Stench(1, 2), ~W(1, 3), ~W(1, 1), ~W(2, 2), ~Breeze(2, 1), ~P(2, 2), ~P(3, 1), ~P(1, 1), Stench(2, 1), (W(2, 2) | W(3, 1) | W(1, 1) | ~Stench(2, 1)), ~Breeze(2, 2), ~P(2, 3), ~P(2, 1), ~P(3, 2), ~P(1, 2), ~Stench(2, 2), ~W(2, 3), ~W(2, 1), ~W(3, 2), ~W(1, 2), ~Breeze(2, 3), ~P(2, 4), ~P(2, 2), ~P(3, 3), ~P(1, 3), ~Stench(2, 3), ~W(2, 4), ~W(2, 2), ~W(3, 3), ~W(1, 3)]\n",
      "Percepts di (2, 3): set()\n",
      "824 ns ± 18 ns per loop (mean ± std. dev. of 7 runs, 1,000,000 loops each)\n"
     ]
    }
   ],
   "source": [
    "print(agent.kb.clauses)\n",
    "x,y = agent.position\n",
    "print(f\"Percepts di {agent.position}:\", agent.get_percepts(x,y))\n",
    "\n",
    "%timeit np.arange(100)**2"
   ]
  },
  {
   "cell_type": "markdown",
   "id": "4bb3e45f",
   "metadata": {},
   "source": [
    "[~Breeze(1, 1), ~P(1, 2), ~P(2, 1), ~Stench(1, 1), ~W(1, 2), ~W(2, 1), Breeze(1, 2), (P(1, 3) | P(1, 1) | P(2, 2) | ~Breeze(1, 2)), ~Stench(1, 2), ~W(1, 3), ~W(1, 1), ~W(2, 2), ~Breeze(2, 1), ~P(2, 2), ~P(3, 1), ~P(1, 1), Stench(2, 1), (W(2, 2) | W(3, 1) | W(1, 1) | ~Stench(2, 1)), ~Breeze(2, 2), ~P(2, 3), ~P(2, 1), ~P(3, 2), ~P(1, 2), ~Stench(2, 2), ~W(2, 3), ~W(2, 1), ~W(3, 2), ~W(1, 2), ~Breeze(2, 3), ~P(2, 4), ~P(2, 2), ~P(3, 3), ~P(1, 3), ~Stench(2, 3), ~W(2, 4), ~W(2, 2), ~W(3, 3), ~W(1, 3)]\n",
    "\n",
    "adalah klausa yang didapat agen\n",
    "\n",
    "disana ada ~W(2, 4) dan ~P(2, 4) artinya 2,4 aman"
   ]
  },
  {
   "cell_type": "code",
   "execution_count": 24,
   "id": "d37552b8",
   "metadata": {},
   "outputs": [
    {
     "name": "stdout",
     "output_type": "stream",
     "text": [
      "✅ Menemukan tetangga aman & baru di (2,4). Bergerak.\n",
      "796 ns ± 21.1 ns per loop (mean ± std. dev. of 7 runs, 1,000,000 loops each)\n"
     ]
    }
   ],
   "source": [
    "agent.move()\n",
    "\n",
    "%timeit np.arange(100)**2"
   ]
  },
  {
   "cell_type": "code",
   "execution_count": 25,
   "id": "088190dd",
   "metadata": {},
   "outputs": [
    {
     "name": "stdout",
     "output_type": "stream",
     "text": [
      "[~Breeze(1, 1), ~P(1, 2), ~P(2, 1), ~Stench(1, 1), ~W(1, 2), ~W(2, 1), Breeze(1, 2), (P(1, 3) | P(1, 1) | P(2, 2) | ~Breeze(1, 2)), ~Stench(1, 2), ~W(1, 3), ~W(1, 1), ~W(2, 2), ~Breeze(2, 1), ~P(2, 2), ~P(3, 1), ~P(1, 1), Stench(2, 1), (W(2, 2) | W(3, 1) | W(1, 1) | ~Stench(2, 1)), ~Breeze(2, 2), ~P(2, 3), ~P(2, 1), ~P(3, 2), ~P(1, 2), ~Stench(2, 2), ~W(2, 3), ~W(2, 1), ~W(3, 2), ~W(1, 2), ~Breeze(2, 3), ~P(2, 4), ~P(2, 2), ~P(3, 3), ~P(1, 3), ~Stench(2, 3), ~W(2, 4), ~W(2, 2), ~W(3, 3), ~W(1, 3), ~Breeze(2, 4), ~P(2, 5), ~P(2, 3), ~P(3, 4), ~P(1, 4), ~Stench(2, 4), ~W(2, 5), ~W(2, 3), ~W(3, 4), ~W(1, 4)]\n",
      "Percepts di (2, 4): {'G'}\n",
      "824 ns ± 24.3 ns per loop (mean ± std. dev. of 7 runs, 1,000,000 loops each)\n"
     ]
    }
   ],
   "source": [
    "print(agent.kb.clauses)\n",
    "x,y = agent.position\n",
    "print(f\"Percepts di {agent.position}:\", agent.get_percepts(x,y))\n",
    "\n",
    "%timeit np.arange(100)**2"
   ]
  },
  {
   "cell_type": "markdown",
   "id": "35679a6e",
   "metadata": {},
   "source": [
    "emas telah ditemukan"
   ]
  },
  {
   "cell_type": "markdown",
   "id": "b350ae8c",
   "metadata": {},
   "source": [
    "#### 3. Lakukan inferensi menggunakan entailments TT-entails (untuk semua mahasiswa)"
   ]
  },
  {
   "cell_type": "markdown",
   "id": "dbed9656",
   "metadata": {},
   "source": [
    "aku akan membahas mengapa agen bisa menentukan jalan berdasarkan TT-entails"
   ]
  },
  {
   "cell_type": "markdown",
   "id": "8e5bd693",
   "metadata": {},
   "source": [
    "klausa saat agen di 1,1\n",
    "\n",
    "~Breeze(1, 1), ~P(1, 2), ~P(2, 1), ~Stench(1, 1), ~W(1, 2), ~W(2, 1)"
   ]
  },
  {
   "cell_type": "code",
   "execution_count": 26,
   "id": "af18aa89",
   "metadata": {},
   "outputs": [
    {
     "name": "stdout",
     "output_type": "stream",
     "text": [
      "810 ns ± 14.4 ns per loop (mean ± std. dev. of 7 runs, 1,000,000 loops each)\n"
     ]
    }
   ],
   "source": [
    "def conjoin(clauses):\n",
    "    \"\"\"\n",
    "    Menggabungkan sebuah list berisi kalimat-kalimat logika menjadi satu\n",
    "    kalimat logika besar yang dihubungkan dengan 'AND' (&).\n",
    "    \n",
    "    Contoh: conjoin([A, B, C]) akan menghasilkan (A & B & C)\n",
    "    \"\"\"\n",
    "    if not clauses:\n",
    "        return None\n",
    "    if len(clauses) == 1:\n",
    "        return clauses[0]\n",
    "    \n",
    "    \n",
    "    conj = clauses[0]\n",
    "    \n",
    "    for i in range(1, len(clauses)):\n",
    "        conj = conj & clauses[i]\n",
    "        \n",
    "    return conj\n",
    "\n",
    "\n",
    "%timeit np.arange(100)**2"
   ]
  },
  {
   "cell_type": "markdown",
   "id": "0db8e2b0",
   "metadata": {},
   "source": [
    "kita butuh function conjoin untuk membuat kumpulan klausa yang dipisah koma menjadi dipisah &"
   ]
  },
  {
   "cell_type": "code",
   "execution_count": 27,
   "id": "ebed35eb",
   "metadata": {},
   "outputs": [
    {
     "name": "stdout",
     "output_type": "stream",
     "text": [
      "KB sekarang:\n",
      "[~Breeze(1, 1), ~P(1, 2), ~P(2, 1), ~Stench(1, 1), ~W(1, 2), ~W(2, 1)]\n",
      "Percepts di (1, 1): set()\n",
      "827 ns ± 20.2 ns per loop (mean ± std. dev. of 7 runs, 1,000,000 loops each)\n"
     ]
    }
   ],
   "source": [
    "agent = WumpusAgent(world, initial_pos=(1,1))\n",
    "\n",
    "print(\"KB sekarang:\")\n",
    "print(agent.kb.clauses)\n",
    "x,y = agent.position\n",
    "print(f\"Percepts di {agent.position}:\", agent.get_percepts(x,y))\n",
    "\n",
    "%timeit np.arange(100)**2"
   ]
  },
  {
   "cell_type": "code",
   "execution_count": 28,
   "id": "a29b805f",
   "metadata": {},
   "outputs": [
    {
     "name": "stdout",
     "output_type": "stream",
     "text": [
      "835 ns ± 25.7 ns per loop (mean ± std. dev. of 7 runs, 1,000,000 loops each)\n"
     ]
    }
   ],
   "source": [
    "list_klausa = agent.kb.clauses\n",
    "kb_sebagai_kalimat = conjoin(list_klausa)\n",
    "\n",
    "tt_entails(kb_sebagai_kalimat, expr('P(1,2) or W(1,2)'))\n",
    "\n",
    "%timeit np.arange(100)**2"
   ]
  },
  {
   "cell_type": "markdown",
   "id": "034a7786",
   "metadata": {},
   "source": [
    "karena 1,2 tidak ada pit dan wumpus, oleh karena itu agen pindah ke 1,2"
   ]
  },
  {
   "cell_type": "code",
   "execution_count": 29,
   "id": "43c332f6",
   "metadata": {},
   "outputs": [
    {
     "name": "stdout",
     "output_type": "stream",
     "text": [
      "✅ Menemukan tetangga aman & baru di (1,2). Bergerak.\n",
      "828 ns ± 26.3 ns per loop (mean ± std. dev. of 7 runs, 1,000,000 loops each)\n"
     ]
    }
   ],
   "source": [
    "agent.move()\n",
    "agent.kb.clauses\n",
    "\n",
    "%timeit np.arange(100)**2"
   ]
  },
  {
   "cell_type": "code",
   "execution_count": 30,
   "id": "e270145c",
   "metadata": {},
   "outputs": [
    {
     "name": "stdout",
     "output_type": "stream",
     "text": [
      "844 ns ± 16.8 ns per loop (mean ± std. dev. of 7 runs, 1,000,000 loops each)\n"
     ]
    }
   ],
   "source": [
    "list_klausa = agent.kb.clauses\n",
    "kb_sebagai_kalimat = conjoin(list_klausa)\n",
    "\n",
    "tt_entails(kb_sebagai_kalimat, expr('P(1,3) or W(1,3)')), tt_entails(kb_sebagai_kalimat, expr('P(2,2) or W(2,2)'))\n",
    "\n",
    "%timeit np.arange(100)**2"
   ]
  },
  {
   "cell_type": "markdown",
   "id": "25711017",
   "metadata": {},
   "source": [
    "Belum bisa ditentukan apakah 1,3 dan 2,2 itu aman. jadi kita kembali ke 1,1"
   ]
  },
  {
   "cell_type": "code",
   "execution_count": 31,
   "id": "6eb0b378",
   "metadata": {},
   "outputs": [
    {
     "name": "stdout",
     "output_type": "stream",
     "text": [
      "🚧 Jalan buntu di (1,2). Mencari rute lain...\n",
      "🎯 Tujuan baru: (2, 1). Merencanakan rute...\n",
      "🗺️ Rute ditemukan. Langkah selanjutnya: (1, 1)\n",
      "814 ns ± 17.5 ns per loop (mean ± std. dev. of 7 runs, 1,000,000 loops each)\n"
     ]
    }
   ],
   "source": [
    "agent.move()\n",
    "agent.kb.clauses\n",
    "\n",
    "%timeit np.arange(100)**2"
   ]
  },
  {
   "cell_type": "code",
   "execution_count": 32,
   "id": "634dc530",
   "metadata": {},
   "outputs": [
    {
     "name": "stdout",
     "output_type": "stream",
     "text": [
      "✅ Menemukan tetangga aman & baru di (2,1). Bergerak.\n",
      "840 ns ± 17.8 ns per loop (mean ± std. dev. of 7 runs, 1,000,000 loops each)\n"
     ]
    }
   ],
   "source": [
    "agent.move()\n",
    "agent.kb.clauses\n",
    "\n",
    "%timeit np.arange(100)**2"
   ]
  },
  {
   "cell_type": "code",
   "execution_count": 33,
   "id": "5a85c9bd",
   "metadata": {},
   "outputs": [
    {
     "name": "stdout",
     "output_type": "stream",
     "text": [
      "829 ns ± 13 ns per loop (mean ± std. dev. of 7 runs, 1,000,000 loops each)\n"
     ]
    }
   ],
   "source": [
    "list_klausa = agent.kb.clauses\n",
    "kb_sebagai_kalimat = conjoin(list_klausa)\n",
    "\n",
    "tt_entails(kb_sebagai_kalimat, expr('P(3,1) or W(3,1)')), tt_entails(kb_sebagai_kalimat, expr('P(2,2) or W(2,2)'))\n",
    "\n",
    "%timeit np.arange(100)**2"
   ]
  },
  {
   "cell_type": "markdown",
   "id": "b2a1a2ab",
   "metadata": {},
   "source": [
    "3,1 bisa jadi false karena knowledge belum lengkap, namun 2,2 pasti aman"
   ]
  },
  {
   "cell_type": "code",
   "execution_count": 34,
   "id": "e3be0ef9",
   "metadata": {},
   "outputs": [
    {
     "name": "stdout",
     "output_type": "stream",
     "text": [
      "✅ Menemukan tetangga aman & baru di (2,2). Bergerak.\n",
      "850 ns ± 8.14 ns per loop (mean ± std. dev. of 7 runs, 1,000,000 loops each)\n"
     ]
    }
   ],
   "source": [
    "agent.move()\n",
    "agent.kb.clauses\n",
    "\n",
    "%timeit np.arange(100)**2"
   ]
  },
  {
   "cell_type": "code",
   "execution_count": 35,
   "id": "75055ec6",
   "metadata": {},
   "outputs": [],
   "source": [
    "# list_klausa = agent.kb.clauses\n",
    "# kb_sebagai_kalimat = conjoin(list_klausa)\n",
    "\n",
    "# tt_entails(kb_sebagai_kalimat, expr('P(3,2) or W(3,2)')), tt_entails(kb_sebagai_kalimat, expr('P(2,3) or W(2,3)'))"
   ]
  },
  {
   "cell_type": "markdown",
   "id": "324f4867",
   "metadata": {},
   "source": [
    "Maaf tidak bisa saya lanjutkan sampai selesai. karena semakin lama agent berjalan, semakin banyak klause yang ada dan semakin lama pula running timenya. inti kerjanya seperti yang sudah saya jelaskan di atas"
   ]
  },
  {
   "cell_type": "markdown",
   "id": "2865ac43",
   "metadata": {},
   "source": [
    "#### 4. Proof By Resolution dan pergerakan agent mendapatkan emas"
   ]
  },
  {
   "cell_type": "code",
   "execution_count": 36,
   "id": "828cb1d3",
   "metadata": {},
   "outputs": [
    {
     "name": "stdout",
     "output_type": "stream",
     "text": [
      "KB sekarang:\n",
      "[~Breeze(1, 1), ~P(1, 2), ~P(2, 1), ~Stench(1, 1), ~W(1, 2), ~W(2, 1)]\n",
      "Percepts di (1, 1): set()\n",
      "Memulai pencarian gold dari (1, 1)\n",
      "\n",
      "--- Langkah 1 ---\n",
      "Posisi: (1,1), Percepts: set()\n",
      "✅ Menemukan tetangga aman & baru di (1,2). Bergerak.\n",
      "\n",
      "--- Langkah 2 ---\n",
      "Posisi: (1,2), Percepts: {'B'}\n",
      "🚧 Jalan buntu di (1,2). Mencari rute lain...\n",
      "🎯 Tujuan baru: (2, 1). Merencanakan rute...\n",
      "🗺️ Rute ditemukan. Langkah selanjutnya: (1, 1)\n",
      "\n",
      "--- Langkah 3 ---\n",
      "Posisi: (1,1), Percepts: set()\n",
      "✅ Menemukan tetangga aman & baru di (2,1). Bergerak.\n",
      "\n",
      "--- Langkah 4 ---\n",
      "Posisi: (2,1), Percepts: {'S'}\n",
      "✅ Menemukan tetangga aman & baru di (2,2). Bergerak.\n",
      "\n",
      "--- Langkah 5 ---\n",
      "Posisi: (2,2), Percepts: set()\n",
      "✅ Menemukan tetangga aman & baru di (2,3). Bergerak.\n",
      "\n",
      "--- Langkah 6 ---\n",
      "Posisi: (2,3), Percepts: set()\n",
      "✅ Menemukan tetangga aman & baru di (2,4). Bergerak.\n",
      "\n",
      "--- Langkah 7 ---\n",
      "Posisi: (2,4), Percepts: {'G'}\n",
      "🎉 GOLD DITEMUKAN di (2,4)!\n",
      "\n",
      "--- Hasil Akhir ---\n",
      "SUKSES: Agent menemukan gold!\n",
      "Total langkah: 7\n",
      "Jejak langkah: [(1, 1), (1, 2), (1, 1), (2, 1), (2, 2), (2, 3), (2, 4)]\n",
      "843 ns ± 11.4 ns per loop (mean ± std. dev. of 7 runs, 1,000,000 loops each)\n"
     ]
    }
   ],
   "source": [
    "world = [\n",
    "    [[\"P\"], [\"B\"], [\"B\"], [\"P\"], [\"B\"]],\n",
    "    [[\"B\"], [\"G\"], [], [\"B\"], []],\n",
    "    [[\"P\"], [], [],[], []],\n",
    "    [[\"B\"], [], [\"S\"], [\"B\"], []],\n",
    "    [[], [\"S\"], [\"W\"], [\"P\"], [\"B\"]]\n",
    "]\n",
    "\n",
    "agent = WumpusAgent(world, initial_pos=(1,1))\n",
    "\n",
    "print(\"KB sekarang:\")\n",
    "print(agent.kb.clauses)\n",
    "x,y = agent.position\n",
    "print(f\"Percepts di {agent.position}:\", agent.get_percepts(x,y))\n",
    "\n",
    "agent.find_gold()\n",
    "\n",
    "%timeit np.arange(100)**2"
   ]
  },
  {
   "cell_type": "markdown",
   "id": "4573717d",
   "metadata": {},
   "source": [
    "Agent berhasil menemukan emas dengan jejak langkah [(1, 1), (1, 2), (1, 1), (2, 1), (2, 2), (2, 3), (2, 4)]"
   ]
  },
  {
   "cell_type": "code",
   "execution_count": 37,
   "id": "cbb3e881",
   "metadata": {},
   "outputs": [
    {
     "name": "stdout",
     "output_type": "stream",
     "text": [
      "826 ns ± 25.8 ns per loop (mean ± std. dev. of 7 runs, 1,000,000 loops each)\n"
     ]
    }
   ],
   "source": [
    "agent.kb.clauses\n",
    "\n",
    "%timeit np.arange(100)**2"
   ]
  },
  {
   "cell_type": "code",
   "execution_count": 38,
   "id": "35f4756e",
   "metadata": {},
   "outputs": [
    {
     "name": "stdout",
     "output_type": "stream",
     "text": [
      "802 ns ± 20.7 ns per loop (mean ± std. dev. of 7 runs, 1,000,000 loops each)\n"
     ]
    }
   ],
   "source": [
    "pl_resolution(agent.kb, expr('~P(2,4) & ~W(2,4)'))\n",
    "\n",
    "%timeit np.arange(100)**2"
   ]
  },
  {
   "cell_type": "markdown",
   "id": "2ba7ae93",
   "metadata": {},
   "source": [
    "Karena 2,4 gaada Pit dan Wumpus, maka 2,4 yang berisi gold dapat diraih oleh agent\n"
   ]
  },
  {
   "cell_type": "markdown",
   "id": "5acafb57",
   "metadata": {},
   "source": [
    "Kita akan membedah secara manual"
   ]
  },
  {
   "cell_type": "markdown",
   "id": "d9315821",
   "metadata": {},
   "source": [
    "untuk membuktikan proof by resolution, kita harus menegasikan ~P(2,4) & ~W(2,4) menjadi P(2,4) | W(2,4)"
   ]
  },
  {
   "cell_type": "markdown",
   "id": "b2e55afd",
   "metadata": {},
   "source": [
    "lalu segala yang berhubungan tentang stench di sekirar 2,4 dan breze sekitar 2,4 dihapus. begitu terus hingga akhirnya semua klausa habis dicoret. jika klausa habis, maka resolusion terbukti"
   ]
  }
 ],
 "metadata": {
  "kernelspec": {
   "display_name": "ml-project",
   "language": "python",
   "name": "python3"
  },
  "language_info": {
   "codemirror_mode": {
    "name": "ipython",
    "version": 3
   },
   "file_extension": ".py",
   "mimetype": "text/x-python",
   "name": "python",
   "nbconvert_exporter": "python",
   "pygments_lexer": "ipython3",
   "version": "3.12.3"
  }
 },
 "nbformat": 4,
 "nbformat_minor": 5
}
